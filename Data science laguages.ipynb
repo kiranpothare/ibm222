{
 "cells": [
  {
   "cell_type": "markdown",
   "id": "255be1e9",
   "metadata": {},
   "source": [
    "Data Science languages:"
   ]
  },
  {
   "cell_type": "markdown",
   "id": "74f6a3ea",
   "metadata": {},
   "source": [
    "1.Python\n",
    "2.R\n",
    "3.SQL\n",
    "4.Java\n",
    "5.Julia\n",
    "6.Scala\n",
    "7.C/C++\n",
    "8.JavaScript"
   ]
  },
  {
   "cell_type": "code",
   "execution_count": null,
   "id": "67ee30c9",
   "metadata": {},
   "outputs": [],
   "source": []
  }
 ],
 "metadata": {
  "kernelspec": {
   "display_name": "Python 3 (ipykernel)",
   "language": "python",
   "name": "python3"
  },
  "language_info": {
   "codemirror_mode": {
    "name": "ipython",
    "version": 3
   },
   "file_extension": ".py",
   "mimetype": "text/x-python",
   "name": "python",
   "nbconvert_exporter": "python",
   "pygments_lexer": "ipython3",
   "version": "3.9.7"
  }
 },
 "nbformat": 4,
 "nbformat_minor": 5
}
